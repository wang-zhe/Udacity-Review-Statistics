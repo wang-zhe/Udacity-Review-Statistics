{
 "cells": [
  {
   "cell_type": "markdown",
   "metadata": {},
   "source": [
    "### Analyzing the Stroop Effect\n",
    "Perform the analysis in the space below. Remember to follow [the instructions](https://docs.google.com/document/d/1-OkpZLjG_kX9J6LIQ5IltsqMzVWjh36QpnP2RYpVdPU/pub?embedded=True) and review the [project rubric](https://review.udacity.com/#!/rubrics/71/view) before submitting. Once you've completed the analysis and write up, download this file as a PDF or HTML file and submit in the final section of this lesson.\n",
    "\n",
    "\n",
    "(1) What is the independent variable? What is the dependent variable?"
   ]
  },
  {
   "cell_type": "code",
   "execution_count": 9,
   "metadata": {},
   "outputs": [
    {
     "data": {
      "text/html": [
       "<div>\n",
       "<style>\n",
       "    .dataframe thead tr:only-child th {\n",
       "        text-align: right;\n",
       "    }\n",
       "\n",
       "    .dataframe thead th {\n",
       "        text-align: left;\n",
       "    }\n",
       "\n",
       "    .dataframe tbody tr th {\n",
       "        vertical-align: top;\n",
       "    }\n",
       "</style>\n",
       "<table border=\"1\" class=\"dataframe\">\n",
       "  <thead>\n",
       "    <tr style=\"text-align: right;\">\n",
       "      <th></th>\n",
       "      <th>Congruent</th>\n",
       "      <th>Incongruent</th>\n",
       "    </tr>\n",
       "  </thead>\n",
       "  <tbody>\n",
       "    <tr>\n",
       "      <th>0</th>\n",
       "      <td>12.079</td>\n",
       "      <td>19.278</td>\n",
       "    </tr>\n",
       "    <tr>\n",
       "      <th>1</th>\n",
       "      <td>16.791</td>\n",
       "      <td>18.741</td>\n",
       "    </tr>\n",
       "    <tr>\n",
       "      <th>2</th>\n",
       "      <td>9.564</td>\n",
       "      <td>21.214</td>\n",
       "    </tr>\n",
       "  </tbody>\n",
       "</table>\n",
       "</div>"
      ],
      "text/plain": [
       "   Congruent  Incongruent\n",
       "0     12.079       19.278\n",
       "1     16.791       18.741\n",
       "2      9.564       21.214"
      ]
     },
     "execution_count": 9,
     "metadata": {},
     "output_type": "execute_result"
    }
   ],
   "source": [
    "%matplotlib inline\n",
    "import pandas as pd\n",
    "import matplotlib.pyplot as plt\n",
    "import plotly.plotly as py\n",
    "import seaborn as sns\n",
    "import scipy.stats as stats\n",
    "\n",
    "data = pd.read_csv('stroopdata.csv')\n",
    "data.head(3)"
   ]
  },
  {
   "cell_type": "markdown",
   "metadata": {},
   "source": [
    "***The independent variable :*** The type of test ( congruent / incogruent )\n",
    "\n",
    "***The dependent variable : *** The response time in second"
   ]
  },
  {
   "cell_type": "markdown",
   "metadata": {},
   "source": [
    "(2) What is an appropriate set of hypotheses for this task? Specify your null and alternative hypotheses, and clearly define any notation used. Justify your choices."
   ]
  },
  {
   "cell_type": "markdown",
   "metadata": {},
   "source": [
    "We want to evaluate the effect on the performance of the participants and see whether the difference in our sample is because of the fact the congruent and incongruent test are significantly different.\n",
    "\n",
    "μC : The congruent population's response time mean\n",
    "\n",
    "μI : The incongruent population's response time mean\n",
    "\n",
    "An appropriate set of hypotheses :\n",
    "\n",
    "H0 : The null hypothesis, that the congruent and incongruent populations are not significantly different (μC − μI = 0)\n",
    "\n",
    "HA : The alternative hypothesis, that the congruent and incongruent populations are significantly different (μC − μI ≠ 0)\n",
    "\n",
    "In our case:\n",
    "\n",
    "The sample size is below 30. (from stroop_data.info(1) (24 entries) )\n",
    "\n",
    "The same participant is measured at two time points.\n",
    "\n",
    "Therefore, we will conduct a Dependent t-test for Paired Samples."
   ]
  },
  {
   "cell_type": "markdown",
   "metadata": {},
   "source": [
    "(3) Report some descriptive statistics regarding this dataset. Include at least one measure of central tendency and at least one measure of variability. The name of the data file is 'stroopdata.csv'."
   ]
  },
  {
   "cell_type": "code",
   "execution_count": 4,
   "metadata": {},
   "outputs": [
    {
     "data": {
      "text/html": [
       "<div>\n",
       "<style>\n",
       "    .dataframe thead tr:only-child th {\n",
       "        text-align: right;\n",
       "    }\n",
       "\n",
       "    .dataframe thead th {\n",
       "        text-align: left;\n",
       "    }\n",
       "\n",
       "    .dataframe tbody tr th {\n",
       "        vertical-align: top;\n",
       "    }\n",
       "</style>\n",
       "<table border=\"1\" class=\"dataframe\">\n",
       "  <thead>\n",
       "    <tr style=\"text-align: right;\">\n",
       "      <th></th>\n",
       "      <th>Congruent</th>\n",
       "      <th>Incongruent</th>\n",
       "    </tr>\n",
       "  </thead>\n",
       "  <tbody>\n",
       "    <tr>\n",
       "      <th>count</th>\n",
       "      <td>24.000000</td>\n",
       "      <td>24.000000</td>\n",
       "    </tr>\n",
       "    <tr>\n",
       "      <th>mean</th>\n",
       "      <td>14.051125</td>\n",
       "      <td>22.015917</td>\n",
       "    </tr>\n",
       "    <tr>\n",
       "      <th>std</th>\n",
       "      <td>3.559358</td>\n",
       "      <td>4.797057</td>\n",
       "    </tr>\n",
       "    <tr>\n",
       "      <th>min</th>\n",
       "      <td>8.630000</td>\n",
       "      <td>15.687000</td>\n",
       "    </tr>\n",
       "    <tr>\n",
       "      <th>25%</th>\n",
       "      <td>11.895250</td>\n",
       "      <td>18.716750</td>\n",
       "    </tr>\n",
       "    <tr>\n",
       "      <th>50%</th>\n",
       "      <td>14.356500</td>\n",
       "      <td>21.017500</td>\n",
       "    </tr>\n",
       "    <tr>\n",
       "      <th>75%</th>\n",
       "      <td>16.200750</td>\n",
       "      <td>24.051500</td>\n",
       "    </tr>\n",
       "    <tr>\n",
       "      <th>max</th>\n",
       "      <td>22.328000</td>\n",
       "      <td>35.255000</td>\n",
       "    </tr>\n",
       "  </tbody>\n",
       "</table>\n",
       "</div>"
      ],
      "text/plain": [
       "       Congruent  Incongruent\n",
       "count  24.000000    24.000000\n",
       "mean   14.051125    22.015917\n",
       "std     3.559358     4.797057\n",
       "min     8.630000    15.687000\n",
       "25%    11.895250    18.716750\n",
       "50%    14.356500    21.017500\n",
       "75%    16.200750    24.051500\n",
       "max    22.328000    35.255000"
      ]
     },
     "execution_count": 4,
     "metadata": {},
     "output_type": "execute_result"
    }
   ],
   "source": [
    "# Perform the analysis here\n",
    "stroop_data.describe()"
   ]
  },
  {
   "cell_type": "markdown",
   "metadata": {},
   "source": [
    "The congruent sample has a mean of x̄C = 14.051 seconds and a standard deviation σC = 3.559 seconds.\n",
    "\n",
    "The incongruent sample has a mean of x̄I = 22.016 seconds and a standard deviation σI = 4.797 seconds."
   ]
  },
  {
   "cell_type": "markdown",
   "metadata": {},
   "source": [
    "(4) Provide one or two visualizations that show the distribution of the sample data. Write one or two sentences noting what you observe about the plot or plots."
   ]
  },
  {
   "cell_type": "code",
   "execution_count": 5,
   "metadata": {},
   "outputs": [
    {
     "data": {
      "text/plain": [
       "Text(0.5,1,'Line Plot of Stroop effect')"
      ]
     },
     "execution_count": 5,
     "metadata": {},
     "output_type": "execute_result"
    },
    {
     "data": {
      "image/png": "[encoded data removed]",
      "text/plain": [
       "<matplotlib.figure.Figure at 0x7fef7d1dbef0>"
      ]
     },
     "metadata": {},
     "output_type": "display_data"
    }
   ],
   "source": [
    "# Build the visualizations here\n",
    "stroop_data.plot(kind='bar')\n",
    "stroop_data.Congruent.plot(kind = 'line', color = 'b',label = 'Congruent',linewidth=2,alpha = 0.5,grid = True)\n",
    "stroop_data.Incongruent.plot(color = 'g',label = 'Incongruent',linewidth=2, alpha = 0.5,grid = True)\n",
    "plt.xlabel('Participents')              \n",
    "plt.ylabel('Score')\n",
    "plt.title('Line Plot of Stroop effect')"
   ]
  },
  {
   "cell_type": "markdown",
   "metadata": {},
   "source": [
    "When plotting this area graph, all participants took longer to answer when tested on the incongruent way."
   ]
  },
  {
   "cell_type": "code",
   "execution_count": 6,
   "metadata": {},
   "outputs": [
    {
     "data": {
      "text/plain": [
       "Text(0.5,1,'KDE of Stroop effect')"
      ]
     },
     "execution_count": 6,
     "metadata": {},
     "output_type": "execute_result"
    },
    {
     "data": {
      "image/png": "[encoded data removed]",
      "text/plain": [
       "<matplotlib.figure.Figure at 0x7fef7d1aa860>"
      ]
     },
     "metadata": {},
     "output_type": "display_data"
    }
   ],
   "source": [
    "stroop_data.plot.kde()\n",
    "plt.title('KDE of Stroop effect')"
   ]
  },
  {
   "cell_type": "markdown",
   "metadata": {},
   "source": [
    "Both samples look normally distributed with a similar variance.\n",
    "The incongruent task distribution of performance times seems to have a small peak around 35 seconds"
   ]
  },
  {
   "cell_type": "markdown",
   "metadata": {},
   "source": [
    "(5)  Now, perform the statistical test and report your results. What is your confidence level or Type I error associated with your test? What is your conclusion regarding the hypotheses you set up? Did the results match up with your expectations? **Hint:**  Think about what is being measured on each individual, and what statistic best captures how an individual reacts in each environment."
   ]
  },
  {
   "cell_type": "code",
   "execution_count": 8,
   "metadata": {},
   "outputs": [
    {
     "name": "stdout",
     "output_type": "stream",
     "text": [
      "Degrees of Freedom : df = 23\n",
      "Alpha- level : a = 0.005\n",
      "t-critical values :  tc  = 2.80733568377 -2.80733568377\n",
      "t-Statistic(df) : t(23) = -8.02070694411\n",
      "p-value : p = 4.10300058571e-08\n"
     ]
    }
   ],
   "source": [
    "# Calculte the mean of each test\n",
    "mean_congurent = stroop_data['Congruent'].mean()\n",
    "mean_incongurant = stroop_data['Incongruent'].mean()\n",
    "\n",
    "# Calculte a point estimate using (mean_congurent - mean_incongurant) / Average of differences\n",
    "estimate_point = mean_congurent - mean_incongurant\n",
    "\n",
    "# Calculate Square of Sums of difference of sample means\n",
    "ssd = sum( ( (stroop_data['Congruent'] - stroop_data['Incongruent']) - estimate_point ) ** 2  )\n",
    "\n",
    "# Calculate the variance of difference\n",
    "vd = ssd / (24 -1)\n",
    "\n",
    "# Calculate Standard Deviation of Differences\n",
    "sdd = vd ** (1/2)\n",
    "############################################\n",
    "# We can get this result easily using pandas std() \n",
    "# but before we have to add a column this way\n",
    "# stroop_data['difference'] = stroop_data['Incongruent'] - stroop_data['Congruent']\n",
    "# sdt = stroop_data.std()\n",
    "# sdd = sdt['difference']\n",
    "############################################\n",
    "\n",
    "#  calculate the t-statistic for the difference\n",
    "tstatistic = estimate_point / ( sdd / ( 24 ** (1/2) ) )\n",
    "\n",
    "############################################\n",
    "# We could find t-statistic easily importing stats from scipy.stats\n",
    "# import scipy.stats as stats\n",
    "# stats.ttest_rel(a = stroop_data['Congruent'], b = stroop_data['Incongruent'])\n",
    "# Ttest_relResult(statistic=-8.020706944109957, pvalue=4.1030005857111781e-08)\n",
    "# then we get the tstatistic  and the p value\n",
    "############################################\n",
    "\n",
    "# Calculate the Degrees of Freedom (n -1)\n",
    "df = 23\n",
    "\n",
    "# Calculte the chances of seeing a result as extreme as the one we observed (known as the p-value)\n",
    "pvalue = stats.t.cdf(x = tstatistic, df = 23 ) * 2 \n",
    "\n",
    "# Clacute t-critical for alpha level 0.005 (aiming to 99% confidence level)\n",
    "alpha = 0.005\n",
    "tcritical = stats.t.ppf(q=alpha, df=23)\n",
    "\n",
    "print(\"Degrees of Freedom : df =\", df)\n",
    "print(\"Alpha- level : a =\", alpha)\n",
    "print(\"t-critical values :  tc  =\", -tcritical, tcritical)\n",
    "print(\"t-Statistic(df) : t(23) =\", tstatistic)\n",
    "print(\"p-value : p =\", pvalue)"
   ]
  },
  {
   "cell_type": "markdown",
   "metadata": {},
   "source": [
    "If the calculated t-statistic is greater than the critical t-value, the test concludes that there is a statistically significant difference between the two populations. Therefore, you reject the null hypothesis that there is no statistically significant difference between the two populations.\n",
    "\n",
    "We observe that\n",
    "\n",
    "The t-Statistic is clearly smaller than the negative t-critical value\n",
    "\n",
    "In the critical region with a p-value < 0.0001\n",
    "\n",
    "Therefore we reject the Null Hypothesis with a 99% Confidence level and conclude that there is a significant difference in the scores for congruent and incongruent tasks.\n",
    "\n",
    "The results match up with our observations and expectations that there is indeed a statistically significant difference in the response time to perform the incongruent test compared to the congruent test."
   ]
  },
  {
   "cell_type": "markdown",
   "metadata": {},
   "source": [
    "(6) Optional: What do you think is responsible for the effects observed? Can you think of an alternative or similar task that would result in a similar effect? Some research about the problem will be helpful for thinking about these two questions!"
   ]
  },
  {
   "cell_type": "markdown",
   "metadata": {},
   "source": [
    "***References***\n",
    "\n",
    "Wikipedia, https://en.wikipedia.org/wiki/Stroop_effect. Retrieved 2017-02-28\n",
    "\n",
    "Lund Research Ltd. “Paired t-test using Stata”. statistics.laerd.com. Retrieved 2017-02-27.\n",
    "\n",
    "Macleod, M. Colin, “The Stroop effect”,Encyclopedia of Color Science and Technology,1,2015."
   ]
  },
  {
   "cell_type": "code",
   "execution_count": null,
   "metadata": {},
   "outputs": [],
   "source": []
  }
 ],
 "metadata": {
  "kernelspec": {
   "display_name": "Python 3",
   "language": "python",
   "name": "python3"
  },
  "language_info": {
   "codemirror_mode": {
    "name": "ipython",
    "version": 3
   },
   "file_extension": ".py",
   "mimetype": "text/x-python",
   "name": "python",
   "nbconvert_exporter": "python",
   "pygments_lexer": "ipython3",
   "version": "3.6.3"
  }
 },
 "nbformat": 4,
 "nbformat_minor": 2
}
